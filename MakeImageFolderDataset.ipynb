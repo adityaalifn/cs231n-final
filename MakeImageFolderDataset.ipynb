{
 "cells": [
  {
   "cell_type": "code",
   "execution_count": null,
   "metadata": {
    "collapsed": true
   },
   "outputs": [],
   "source": [
    "import csv\n",
    "import os\n",
    "cwd = os.getcwd()\n",
    "\n",
    "labels = {}\n",
    "with open(cwd+'/dataset/labels/train_labels.csv', 'r') as csvfile:\n",
    "    reader = csv.reader(csvfile, delimiter=',')\n",
    "    for row in reader:\n",
    "        labels[row[0]] = row[1]"
   ]
  },
  {
   "cell_type": "code",
   "execution_count": null,
   "metadata": {
    "collapsed": true
   },
   "outputs": [],
   "source": [
    "import shutil\n",
    "import os.path\n",
    "import random\n",
    "\n",
    "random.seed(123)\n",
    "\n",
    "paths_to_create = [os.path.join(cwd, \"dataset\", \"val\"),\n",
    "os.path.join(cwd, \"dataset\", \"train\", \"0\"),\n",
    "os.path.join(cwd, \"dataset\", \"train\", \"1\"),\n",
    "os.path.join(cwd, \"dataset\", \"val\", \"0\"),\n",
    "os.path.join(cwd, \"dataset\", \"val\", \"1\")]\n",
    "\n",
    "for path in paths_to_create:\n",
    "    if not os.path.isdir(path):\n",
    "        os.mkdir(path)\n",
    "\n",
    "for file,label in labels.items():\n",
    "    fname = os.path.join(cwd, \"dataset\", \"train\", file+\".jpg\")\n",
    "    if os.path.isfile(fname):\n",
    "        folder = \"train\"\n",
    "        if random.randint(0,4) == 4: # 1/5 go to validation set\n",
    "            folder=\"val\"\n",
    "        new_fname = os.path.join(cwd, \"dataset\", folder, label, file+\".jpg\")\n",
    "        shutil.copy2(fname, new_fname)"
   ]
  }
 ],
 "metadata": {
  "kernelspec": {
   "display_name": "Python 3",
   "language": "python",
   "name": "python3"
  },
  "language_info": {
   "codemirror_mode": {
    "name": "ipython",
    "version": 3
   },
   "file_extension": ".py",
   "mimetype": "text/x-python",
   "name": "python",
   "nbconvert_exporter": "python",
   "pygments_lexer": "ipython3",
   "version": "3.5.2"
  }
 },
 "nbformat": 4,
 "nbformat_minor": 0
}
