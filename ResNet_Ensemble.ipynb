{
 "cells": [
  {
   "cell_type": "code",
   "execution_count": 30,
   "metadata": {
    "collapsed": false
   },
   "outputs": [
    {
     "name": "stdout",
     "output_type": "stream",
     "text": [
      "The autoreload extension is already loaded. To reload it, use:\n",
      "  %reload_ext autoreload\n"
     ]
    }
   ],
   "source": [
    "import torch\n",
    "import torch.nn as nn\n",
    "import torch.optim as optim\n",
    "from torch.autograd import Variable\n",
    "from torch.utils.data import DataLoader\n",
    "from torch.utils.data import sampler\n",
    "\n",
    "import torchvision.datasets as dset\n",
    "import torchvision.transforms as T\n",
    "import matplotlib.pyplot as plt\n",
    "from PIL import Image\n",
    "import numpy as np\n",
    "\n",
    "from scipy.integrate import simps\n",
    "from sklearn.metrics import f1_score\n",
    "\n",
    "import timeit\n",
    "%matplotlib inline\n",
    "%load_ext autoreload\n",
    "%autoreload 2"
   ]
  },
  {
   "cell_type": "markdown",
   "metadata": {},
   "source": [
    "## Training Setup"
   ]
  },
  {
   "cell_type": "code",
   "execution_count": 7,
   "metadata": {
    "collapsed": true
   },
   "outputs": [],
   "source": [
    "from torchvision import datasets, models, transforms\n",
    "import os\n",
    "from ScaleSquareTransform import ScaleSquare\n",
    "cwd = os.getcwd()\n",
    "\n",
    "data_transforms = {\n",
    "    'train': transforms.Compose([\n",
    "        ScaleSquare(224),\n",
    "        transforms.ToTensor()\n",
    "    ]),\n",
    "    'val': transforms.Compose([\n",
    "        ScaleSquare(224),\n",
    "        transforms.ToTensor()\n",
    "    ]),\n",
    "}\n",
    "\n",
    "data_dir = os.path.join(cwd,\"dataset\")\n",
    "dsets = {x: datasets.ImageFolder(os.path.join(data_dir, x), data_transforms[x])\n",
    "         for x in ['train', 'val']}\n",
    "dset_loaders = {x: torch.utils.data.DataLoader(dsets[x], batch_size=25,\n",
    "                                               shuffle=True, num_workers=4)\n",
    "                for x in ['train', 'val']}\n",
    "\n",
    "dset_sizes = {x: len(dsets[x]) for x in ['train', 'val']}\n",
    "dset_classes = dsets['train'].classes\n",
    "print_every = 100\n"
   ]
  },
  {
   "cell_type": "code",
   "execution_count": 3,
   "metadata": {
    "collapsed": false
   },
   "outputs": [
    {
     "data": {
      "text/plain": [
       "True"
      ]
     },
     "execution_count": 3,
     "metadata": {},
     "output_type": "execute_result"
    }
   ],
   "source": [
    "# Verify that CUDA is properly configured and you have a GPU available\n",
    "gpu_dtype = torch.cuda.FloatTensor\n",
    "torch.cuda.is_available()"
   ]
  },
  {
   "cell_type": "code",
   "execution_count": 38,
   "metadata": {
    "collapsed": true
   },
   "outputs": [],
   "source": [
    "def train(model, loss_fn, loader, optimizer, num_epochs = 1, print_every=100):\n",
    "    loss_history = []\n",
    "    for epoch in range(num_epochs):\n",
    "        print('Starting epoch %d / %d' % (epoch + 1, num_epochs))\n",
    "        model.train()\n",
    "        for t, (x, y) in enumerate(loader):\n",
    "            x_var = Variable(x.type(gpu_dtype))\n",
    "            y_var = Variable(y.type(gpu_dtype).long())\n",
    "\n",
    "            scores = model(x_var)\n",
    "            loss = loss_fn(scores, y_var)\n",
    "            loss_data = loss.data[0]\n",
    "            loss_history.append(loss_data)\n",
    "            if (t + 1) % print_every == 0:\n",
    "                print('t = %d, loss = %.4f' % (t + 1, loss_data))\n",
    "\n",
    "            optimizer.zero_grad()\n",
    "            loss.backward()\n",
    "            optimizer.step()\n",
    "    return loss_history\n",
    "\n",
    "def check_accuracy(model, loader):    \n",
    "    softmax_fn = nn.Softmax()\n",
    "    prob_scores_corr = []\n",
    "    prob_scores_incorr = []\n",
    "    all_preds = []\n",
    "    all_y = []\n",
    "    num_correct = 0\n",
    "    num_samples = 0\n",
    "    incorrect_x = {0:[],1:[]}\n",
    "    model.eval() # Put the model in test mode (the opposite of model.train(), essentially)\n",
    "    for x, y in loader:\n",
    "        x_var = Variable(x.type(gpu_dtype), volatile=True)\n",
    "        y_cuda = y.type(torch.cuda.LongTensor)\n",
    "\n",
    "        scores = model(x_var)\n",
    "        _, preds = scores.data.cpu().max(1)\n",
    "        num_correct += (preds == y).sum()\n",
    "        num_samples += preds.size(0)\n",
    "\n",
    "        all_preds.append(preds)\n",
    "        all_y.append(y)\n",
    "        prob_score = softmax_fn(scores).data.cpu()\n",
    "        for i,x_i in enumerate(x):\n",
    "            if (preds[i]!=y[i])[0] == 1:\n",
    "                incorrect_x[preds[i][0]].append(x_i.unsqueeze(0))\n",
    "            prob_scores_corr.append(prob_score[i][y[i]])\n",
    "            prob_scores_incorr.append(prob_score[i][1-y[i]])\n",
    "\n",
    "    y_true = torch.cat(all_y,0)\n",
    "    y_pred = torch.cat(all_preds,0)\n",
    "    f1score = f1_score(y_true.numpy(), y_pred.numpy(), average='micro')\n",
    "\n",
    "    acc = float(num_correct) / num_samples\n",
    "    print('Got %d / %d correct (%.2f)' % (num_correct, num_samples, 100 * acc))\n",
    "    return acc, incorrect_x, prob_scores_corr, prob_scores_incorr, f1score"
   ]
  },
  {
   "cell_type": "code",
   "execution_count": 15,
   "metadata": {
    "collapsed": true
   },
   "outputs": [],
   "source": [
    "def get_incorr_loader(model, incorrects):\n",
    "    all_inc_val = []\n",
    "    all_inc_val.extend(incorrects[0])\n",
    "    all_inc_val.extend(incorrects[1])\n",
    "    inc_dataset_val = torch.cat(all_inc_val, 0)\n",
    "    targets_val = torch.cat([torch.LongTensor(len(incorrects[0])).fill_(1), torch.LongTensor(len(incorrects[1])).fill_(0)], 0)\n",
    "    incorr_val = torch.utils.data.TensorDataset(inc_dataset_val, targets_val)\n",
    "    incorr_loader_val = torch.utils.data.DataLoader(incorr_val, batch_size=4, shuffle=True)\n",
    "    return incorr_loader_val"
   ]
  },
  {
   "cell_type": "code",
   "execution_count": 10,
   "metadata": {
    "collapsed": true
   },
   "outputs": [],
   "source": [
    "loss_fn = nn.CrossEntropyLoss()"
   ]
  },
  {
   "cell_type": "markdown",
   "metadata": {},
   "source": [
    "## Train all of the models"
   ]
  },
  {
   "cell_type": "markdown",
   "metadata": {},
   "source": [
    "### Resnet 34"
   ]
  },
  {
   "cell_type": "code",
   "execution_count": null,
   "metadata": {
    "collapsed": true
   },
   "outputs": [],
   "source": [
    "model_18 = models.resnet18(pretrained=True)\n",
    "model_18.fc = nn.Linear(model_18.fc.in_features, 2)\n",
    "model_18.cuda()\n",
    "model_18.load_state_dict(torch.load(os.path.join(cwd,\"model_params_extra_incor2.pth\")))"
   ]
  },
  {
   "cell_type": "code",
   "execution_count": 21,
   "metadata": {
    "collapsed": false
   },
   "outputs": [
    {
     "name": "stdout",
     "output_type": "stream",
     "text": [
      "Starting epoch 1 / 5\n",
      "Starting epoch 2 / 5\n",
      "Starting epoch 3 / 5\n",
      "Starting epoch 4 / 5\n",
      "Starting epoch 5 / 5\n",
      "Got 436 / 439 correct (99.32)\n",
      "False negatives: 2\n",
      "False positives: 1\n"
     ]
    }
   ],
   "source": [
    "model_34 = models.resnet34(pretrained=True)\n",
    "model_34.fc = nn.Linear(model_34.fc.in_features, 2)\n",
    "model_34.cuda()\n",
    "\n",
    "optimizer_34 = optim.Adam(model_34.parameters(), lr=10**-3.89, betas=(0.9, 0.99), weight_decay=0.009)\n",
    "\n",
    "loss_history_34 = train(model_34, loss_fn, dset_loaders[\"train\"], optimizer_34, num_epochs=5)\n",
    "acc, incorrects_34, prob_scores_corr_34, prob_scores_incorr_34, f1score_34 = check_accuracy(model_34, dset_loaders[\"val\"])\n",
    "print(\"False negatives:\",len(incorrects_34[0]))\n",
    "print(\"False positives:\",len(incorrects_34[1]))\n",
    "print(\"F1 score\",f1score_34)"
   ]
  },
  {
   "cell_type": "code",
   "execution_count": 22,
   "metadata": {
    "collapsed": true
   },
   "outputs": [],
   "source": [
    "#torch.save(model_34.state_dict(), os.path.join(cwd,\"model_params_resnet_34.pth\"))"
   ]
  },
  {
   "cell_type": "code",
   "execution_count": 23,
   "metadata": {
    "collapsed": false
   },
   "outputs": [
    {
     "data": {
      "image/png": "[encoded data removed]",
      "text/plain": [
       "<matplotlib.figure.Figure at 0x7f45e5911d30>"
      ]
     },
     "metadata": {},
     "output_type": "display_data"
    }
   ],
   "source": [
    "# Plot the training losses\n",
    "plt.plot(loss_history_34)\n",
    "plt.xlabel('Iteration')\n",
    "plt.ylabel('Loss')\n",
    "plt.title('Training loss history')\n",
    "plt.show()"
   ]
  },
  {
   "cell_type": "code",
   "execution_count": 27,
   "metadata": {
    "collapsed": false
   },
   "outputs": [
    {
     "data": {
      "image/png": "[encoded data removed]",
      "text/plain": [
       "<matplotlib.figure.Figure at 0x7f45e4fddb70>"
      ]
     },
     "metadata": {},
     "output_type": "display_data"
    }
   ],
   "source": [
    "sorted_prob_scores_corr_34 = sorted(prob_scores_corr_34)\n",
    "plt.plot(sorted_prob_scores_corr_34, '-')\n",
    "plt.gcf().set_size_inches(5, 5)\n",
    "plt.show()"
   ]
  },
  {
   "cell_type": "code",
   "execution_count": 28,
   "metadata": {
    "collapsed": false
   },
   "outputs": [
    {
     "name": "stdout",
     "output_type": "stream",
     "text": [
      "area = 429.815651653\n"
     ]
    }
   ],
   "source": [
    "area = simps(sorted_prob_scores_corr_34, dx=1)\n",
    "print(\"area =\", area)"
   ]
  },
  {
   "cell_type": "markdown",
   "metadata": {},
   "source": [
    "### Resnet 50"
   ]
  },
  {
   "cell_type": "code",
   "execution_count": 45,
   "metadata": {
    "collapsed": false
   },
   "outputs": [
    {
     "name": "stdout",
     "output_type": "stream",
     "text": [
      "Starting epoch 1 / 5\n",
      "Starting epoch 2 / 5\n",
      "Starting epoch 3 / 5\n",
      "Starting epoch 4 / 5\n",
      "Starting epoch 5 / 5\n",
      "Got 434 / 439 correct (98.86)\n",
      "False negatives: 3\n",
      "False positives: 2\n",
      "F1 score 0.98861047836\n"
     ]
    }
   ],
   "source": [
    "model_50 = models.resnet50(pretrained=True)\n",
    "model_50.fc = nn.Linear(model_50.fc.in_features, 2)\n",
    "model_50.cuda()\n",
    "\n",
    "optimizer_50 = optim.Adam(model_50.parameters(), lr=10**-3.89, betas=(0.9, 0.99), weight_decay=0.009)\n",
    "\n",
    "loss_history_50 = train(model_50, loss_fn, dset_loaders[\"train\"], optimizer_50, num_epochs=5)\n",
    "acc, incorrects_50, prob_scores_corr_50, _, f1score_50 = check_accuracy(model_50, dset_loaders[\"val\"])\n",
    "print(\"False negatives:\",len(incorrects_50[0]))\n",
    "print(\"False positives:\",len(incorrects_50[1]))\n",
    "print(\"F1 score\",f1score_50)"
   ]
  },
  {
   "cell_type": "code",
   "execution_count": 46,
   "metadata": {
    "collapsed": true
   },
   "outputs": [],
   "source": [
    "#torch.save(model_50.state_dict(), os.path.join(cwd,\"model_params_resnet_50.pth\"))"
   ]
  },
  {
   "cell_type": "code",
   "execution_count": 47,
   "metadata": {
    "collapsed": false
   },
   "outputs": [
    {
     "data": {
      "image/png": "[encoded data removed]",
      "text/plain": [
       "<matplotlib.figure.Figure at 0x7f45e4fe1ac8>"
      ]
     },
     "metadata": {},
     "output_type": "display_data"
    }
   ],
   "source": [
    "# Plot the training losses\n",
    "plt.plot(loss_history_50)\n",
    "plt.xlabel('Iteration')\n",
    "plt.ylabel('Loss')\n",
    "plt.title('Training loss history')\n",
    "plt.show()"
   ]
  },
  {
   "cell_type": "code",
   "execution_count": 48,
   "metadata": {
    "collapsed": false
   },
   "outputs": [
    {
     "data": {
      "image/png": "[encoded data removed]",
      "text/plain": [
       "<matplotlib.figure.Figure at 0x7f45e46e2630>"
      ]
     },
     "metadata": {},
     "output_type": "display_data"
    },
    {
     "name": "stdout",
     "output_type": "stream",
     "text": [
      "area = 425.340020858\n"
     ]
    }
   ],
   "source": [
    "sorted_prob_scores_corr_50 = sorted(prob_scores_corr_50)\n",
    "plt.plot(sorted_prob_scores_corr_50, '-')\n",
    "plt.gcf().set_size_inches(5, 5)\n",
    "plt.show()\n",
    "\n",
    "area = simps(sorted_prob_scores_corr_50, dx=1)\n",
    "print(\"area =\", area)"
   ]
  },
  {
   "cell_type": "markdown",
   "metadata": {},
   "source": [
    "### Resnet 101"
   ]
  },
  {
   "cell_type": "code",
   "execution_count": null,
   "metadata": {
    "collapsed": false
   },
   "outputs": [
    {
     "name": "stdout",
     "output_type": "stream",
     "text": [
      "Starting epoch 1 / 5\n",
      "Starting epoch 2 / 5\n"
     ]
    }
   ],
   "source": [
    "model_101 = models.resnet101(pretrained=True)\n",
    "model_101.fc = nn.Linear(model_101.fc.in_features, 2)\n",
    "model_101.cuda()\n",
    "\n",
    "optimizer_101 = optim.Adam(model_101.parameters(), lr=10**-4, betas=(0.9, 0.99), weight_decay=0.009)\n",
    "\n",
    "loss_history_101 = train(model_101, loss_fn, dset_loaders[\"train\"], optimizer_101, num_epochs=5)\n",
    "acc, incorrects_101, prob_scores_corr_101, _, f1score_101 = check_accuracy(model_101, dset_loaders[\"val\"])\n",
    "print(\"False negatives:\",len(incorrects_101[0]))\n",
    "print(\"False positives:\",len(incorrects_101[1]))\n",
    "print(\"F1 score\",f1score_101)"
   ]
  },
  {
   "cell_type": "code",
   "execution_count": null,
   "metadata": {
    "collapsed": true
   },
   "outputs": [],
   "source": [
    "torch.save(model_101.state_dict(), os.path.join(cwd,\"model_params_resnet_101.pth\"))"
   ]
  },
  {
   "cell_type": "code",
   "execution_count": 51,
   "metadata": {
    "collapsed": false
   },
   "outputs": [
    {
     "data": {
      "image/png": "[encoded data removed]",
      "text/plain": [
       "<matplotlib.figure.Figure at 0x7f458a7fe748>"
      ]
     },
     "metadata": {},
     "output_type": "display_data"
    }
   ],
   "source": [
    "# Plot the training losses\n",
    "plt.plot(loss_history_101)\n",
    "plt.xlabel('Iteration')\n",
    "plt.ylabel('Loss')\n",
    "plt.title('Training loss history')\n",
    "plt.show()"
   ]
  },
  {
   "cell_type": "code",
   "execution_count": null,
   "metadata": {
    "collapsed": true
   },
   "outputs": [],
   "source": [
    "sorted_prob_scores_corr_101 = sorted(prob_scores_corr_101)\n",
    "plt.plot(sorted_prob_scores_corr_101, '-')\n",
    "plt.gcf().set_size_inches(5, 5)\n",
    "plt.show()\n",
    "\n",
    "area = simps(sorted_prob_scores_corr_101, dx=1)\n",
    "print(\"area =\", area)"
   ]
  },
  {
   "cell_type": "markdown",
   "metadata": {},
   "source": [
    "### Resnet 152"
   ]
  },
  {
   "cell_type": "code",
   "execution_count": null,
   "metadata": {
    "collapsed": true
   },
   "outputs": [],
   "source": [
    "model_152 = models.resnet152(pretrained=True)\n",
    "model_152.fc = nn.Linear(model_152.fc.in_features, 2)\n",
    "model_152.cuda()\n",
    "\n",
    "optimizer_152 = optim.Adam(model_152.parameters(), lr=10**-3.89, betas=(0.9, 0.99), weight_decay=0.009)\n",
    "\n",
    "loss_history_152 = train(model_152, loss_fn, dset_loaders[\"train\"], optimizer_152, num_epochs=5)\n",
    "acc, incorrects_152, prob_scores_corr_152, _, f1score_152 = check_accuracy(model_152, dset_loaders[\"val\"])\n",
    "print(\"False negatives:\",len(incorrects_152[0]))\n",
    "print(\"False positives:\",len(incorrects_152[1]))\n",
    "print(\"F1 score\",f1score_152)"
   ]
  },
  {
   "cell_type": "code",
   "execution_count": null,
   "metadata": {
    "collapsed": true
   },
   "outputs": [],
   "source": [
    "torch.save(model_152.state_dict(), os.path.join(cwd,\"model_params_resnet_152.pth\"))"
   ]
  },
  {
   "cell_type": "code",
   "execution_count": null,
   "metadata": {
    "collapsed": true
   },
   "outputs": [],
   "source": [
    "# Plot the training losses\n",
    "plt.plot(loss_history_152)\n",
    "plt.xlabel('Iteration')\n",
    "plt.ylabel('Loss')\n",
    "plt.title('Training loss history')\n",
    "plt.show()"
   ]
  },
  {
   "cell_type": "code",
   "execution_count": null,
   "metadata": {
    "collapsed": true
   },
   "outputs": [],
   "source": [
    "sorted_prob_scores_corr_152 = sorted(prob_scores_corr_152)\n",
    "plt.plot(sorted_prob_scores_corr_152, '-')\n",
    "plt.gcf().set_size_inches(5, 5)\n",
    "plt.show()\n",
    "\n",
    "area = simps(sorted_prob_scores_corr_152, dx=1)\n",
    "print(\"area =\", area)"
   ]
  },
  {
   "cell_type": "markdown",
   "metadata": {},
   "source": [
    "## Ensemble"
   ]
  },
  {
   "cell_type": "code",
   "execution_count": null,
   "metadata": {
    "collapsed": true
   },
   "outputs": [],
   "source": [
    "def check_accuracy_ensemble(models, loader, thresh=0.5, scheme='ave'):    \n",
    "    softmax_fn = nn.Softmax()\n",
    "    prob_scores_corr = []\n",
    "    prob_scores_incorr = []\n",
    "    all_preds = []\n",
    "    all_y = []\n",
    "    num_models = len(models)\n",
    "    num_correct = 0\n",
    "    num_samples = 0\n",
    "    incorrect_x = {0:[],1:[]}\n",
    "    model.eval() # Put the model in test mode (the opposite of model.train(), essentially)\n",
    "    for x, y in loader:\n",
    "        x_var = Variable(x.type(gpu_dtype), volatile=True)\n",
    "        y_cuda = y.type(torch.cuda.LongTensor)\n",
    "\n",
    "        ave_prob_scores = []\n",
    "        for model in models:\n",
    "            scores = model(x_var)\n",
    "            prob_score = softmax_fn(scores).data.cpu()\n",
    "            ave_prob_scores.append(prob_score)\n",
    "\n",
    "        preds = None\n",
    "        if scheme == 'ave':\n",
    "            ave_prob_score = torch.stack(ave_prob_scores).sum(0)/num_models\n",
    "            preds = ave_prob_score.gt(thresh)\n",
    "        else if scheme == 'max':\n",
    "            preds = torch.stack(ave_prob_scores).max(0)\n",
    "        else:\n",
    "            raise NotImplementedError\n",
    "        \n",
    "        num_correct += (preds == y).sum()\n",
    "        num_samples += preds.size(0)\n",
    "\n",
    "        all_preds.append(preds)\n",
    "        all_y.append(y)\n",
    "        \n",
    "        for i,x_i in enumerate(x):\n",
    "            if (preds[i]!=y[i])[0] == 1:\n",
    "                incorrect_x[preds[i][0]].append(x_i.unsqueeze(0))\n",
    "            prob_scores_corr.append(prob_score[i][y[i]])\n",
    "            prob_scores_incorr.append(prob_score[i][1-y[i]])\n",
    "\n",
    "    y_true = torch.cat(all_y,0)\n",
    "    y_pred = torch.cat(all_preds,0)\n",
    "    f1score = f1_score(y_true.numpy(), y_pred.numpy(), average='micro')\n",
    "\n",
    "    acc = float(num_correct) / num_samples\n",
    "    print('Got %d / %d correct (%.2f)' % (num_correct, num_samples, 100 * acc))\n",
    "    return acc, incorrect_x, prob_scores_corr, prob_scores_incorr, f1score"
   ]
  },
  {
   "cell_type": "markdown",
   "metadata": {},
   "source": [
    "Check validation set against all models"
   ]
  },
  {
   "cell_type": "code",
   "execution_count": null,
   "metadata": {
    "collapsed": true
   },
   "outputs": [],
   "source": [
    "models = [model_18, model_34, model_50, model_101, model_152]\n",
    "acc, incorrects, prob_scores_corr, _, f1score = check_accuracy_ensemble(models, dset_loaders[\"val\"])\n",
    "print(\"False negatives:\",len(incorrects[0]))\n",
    "print(\"False positives:\",len(incorrects[1]))\n",
    "print(\"F1 score\",f1score)"
   ]
  },
  {
   "cell_type": "code",
   "execution_count": null,
   "metadata": {
    "collapsed": true
   },
   "outputs": [],
   "source": [
    "sorted_prob_scores_corr = sorted(prob_scores_corr)\n",
    "plt.plot(sorted_prob_scores_corr, '-')\n",
    "plt.gcf().set_size_inches(5, 5)\n",
    "plt.show()\n",
    "\n",
    "area = simps(sorted_prob_scores_corr, dx=1)\n",
    "print(\"area =\", area)"
   ]
  },
  {
   "cell_type": "code",
   "execution_count": null,
   "metadata": {
    "collapsed": true
   },
   "outputs": [],
   "source": [
    "from TestModelEnsemble import TestModelEnsemble\n",
    "\n",
    "TestModelEnsemble(models).submit()"
   ]
  }
 ],
 "metadata": {
  "kernelspec": {
   "display_name": "Python 3",
   "language": "python",
   "name": "python3"
  },
  "language_info": {
   "codemirror_mode": {
    "name": "ipython",
    "version": 3
   },
   "file_extension": ".py",
   "mimetype": "text/x-python",
   "name": "python",
   "nbconvert_exporter": "python",
   "pygments_lexer": "ipython3",
   "version": "3.5.2"
  }
 },
 "nbformat": 4,
 "nbformat_minor": 0
}
