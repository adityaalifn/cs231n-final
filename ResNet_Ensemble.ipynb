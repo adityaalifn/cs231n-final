{
 "cells": [
  {
   "cell_type": "code",
   "execution_count": 1,
   "metadata": {
    "collapsed": false
   },
   "outputs": [],
   "source": [
    "import torch\n",
    "import torch.nn as nn\n",
    "import torch.optim as optim\n",
    "from torch.autograd import Variable\n",
    "from torch.utils.data import DataLoader\n",
    "from torch.utils.data import sampler\n",
    "\n",
    "import torchvision.datasets as dset\n",
    "import torchvision.transforms as T\n",
    "import matplotlib.pyplot as plt\n",
    "from PIL import Image\n",
    "import numpy as np\n",
    "\n",
    "from scipy.integrate import simps\n",
    "from sklearn.metrics import f1_score\n",
    "\n",
    "import timeit\n",
    "%matplotlib inline\n",
    "%load_ext autoreload\n",
    "%autoreload 2"
   ]
  },
  {
   "cell_type": "markdown",
   "metadata": {},
   "source": [
    "## Training Setup"
   ]
  },
  {
   "cell_type": "code",
   "execution_count": 2,
   "metadata": {
    "collapsed": true
   },
   "outputs": [],
   "source": [
    "from torchvision import datasets, models, transforms\n",
    "import os\n",
    "from ScaleSquareTransform import ScaleSquare\n",
    "cwd = os.getcwd()\n",
    "\n",
    "data_transforms = {\n",
    "    'train': transforms.Compose([\n",
    "        ScaleSquare(224),\n",
    "        transforms.ToTensor()\n",
    "    ]),\n",
    "    'val': transforms.Compose([\n",
    "        ScaleSquare(224),\n",
    "        transforms.ToTensor()\n",
    "    ]),\n",
    "}\n",
    "\n",
    "data_dir = os.path.join(cwd,\"dataset\")\n",
    "dsets = {x: datasets.ImageFolder(os.path.join(data_dir, x), data_transforms[x])\n",
    "         for x in ['train', 'val']}\n",
    "dset_loaders = {x: torch.utils.data.DataLoader(dsets[x], batch_size=25,\n",
    "                                               shuffle=True, num_workers=4)\n",
    "                for x in ['train', 'val']}\n",
    "\n",
    "dset_sizes = {x: len(dsets[x]) for x in ['train', 'val']}\n",
    "dset_classes = dsets['train'].classes\n",
    "print_every = 100\n"
   ]
  },
  {
   "cell_type": "code",
   "execution_count": 3,
   "metadata": {
    "collapsed": false
   },
   "outputs": [
    {
     "data": {
      "text/plain": [
       "True"
      ]
     },
     "execution_count": 3,
     "metadata": {},
     "output_type": "execute_result"
    }
   ],
   "source": [
    "# Verify that CUDA is properly configured and you have a GPU available\n",
    "gpu_dtype = torch.cuda.FloatTensor\n",
    "torch.cuda.is_available()"
   ]
  },
  {
   "cell_type": "code",
   "execution_count": 4,
   "metadata": {
    "collapsed": true
   },
   "outputs": [],
   "source": [
    "def train(model, loss_fn, loader, optimizer, num_epochs = 1, print_every=100):\n",
    "    loss_history = []\n",
    "    for epoch in range(num_epochs):\n",
    "        print('Starting epoch %d / %d' % (epoch + 1, num_epochs))\n",
    "        model.train()\n",
    "        for t, (x, y) in enumerate(loader):\n",
    "            x_var = Variable(x.type(gpu_dtype))\n",
    "            y_var = Variable(y.type(gpu_dtype).long())\n",
    "\n",
    "            scores = model(x_var)\n",
    "            loss = loss_fn(scores, y_var)\n",
    "            loss_data = loss.data[0]\n",
    "            loss_history.append(loss_data)\n",
    "            if (t + 1) % print_every == 0:\n",
    "                print('t = %d, loss = %.4f' % (t + 1, loss_data))\n",
    "\n",
    "            optimizer.zero_grad()\n",
    "            loss.backward()\n",
    "            optimizer.step()\n",
    "    return loss_history\n",
    "\n",
    "def check_accuracy(model, loader):    \n",
    "    softmax_fn = nn.Softmax()\n",
    "    prob_scores_corr = []\n",
    "    prob_scores_incorr = []\n",
    "    all_preds = []\n",
    "    all_y = []\n",
    "    num_correct = 0\n",
    "    num_samples = 0\n",
    "    incorrect_x = {0:[],1:[]}\n",
    "    model.eval() # Put the model in test mode (the opposite of model.train(), essentially)\n",
    "    for x, y in loader:\n",
    "        x_var = Variable(x.type(gpu_dtype), volatile=True)\n",
    "        y_cuda = y.type(torch.cuda.LongTensor)\n",
    "\n",
    "        scores = model(x_var)\n",
    "        _, preds = scores.data.cpu().max(1)\n",
    "        num_correct += (preds == y).sum()\n",
    "        num_samples += preds.size(0)\n",
    "\n",
    "        all_preds.append(preds)\n",
    "        all_y.append(y)\n",
    "        prob_score = softmax_fn(scores).data.cpu()\n",
    "        for i,x_i in enumerate(x):\n",
    "            if (preds[i]!=y[i])[0] == 1:\n",
    "                incorrect_x[preds[i][0]].append(x_i.unsqueeze(0))\n",
    "            prob_scores_corr.append(prob_score[i][y[i]])\n",
    "            prob_scores_incorr.append(prob_score[i][1-y[i]])\n",
    "\n",
    "    y_true = torch.cat(all_y,0)\n",
    "    y_pred = torch.cat(all_preds,0)\n",
    "    f1score = f1_score(y_true.numpy(), y_pred.numpy(), average='micro')\n",
    "\n",
    "    acc = float(num_correct) / num_samples\n",
    "    print('Got %d / %d correct (%.2f)' % (num_correct, num_samples, 100 * acc))\n",
    "    return acc, incorrect_x, prob_scores_corr, prob_scores_incorr, f1score"
   ]
  },
  {
   "cell_type": "code",
   "execution_count": 5,
   "metadata": {
    "collapsed": true
   },
   "outputs": [],
   "source": [
    "def get_incorr_loader(model, incorrects):\n",
    "    all_inc_val = []\n",
    "    all_inc_val.extend(incorrects[0])\n",
    "    all_inc_val.extend(incorrects[1])\n",
    "    inc_dataset_val = torch.cat(all_inc_val, 0)\n",
    "    targets_val = torch.cat([torch.LongTensor(len(incorrects[0])).fill_(1), torch.LongTensor(len(incorrects[1])).fill_(0)], 0)\n",
    "    incorr_val = torch.utils.data.TensorDataset(inc_dataset_val, targets_val)\n",
    "    incorr_loader_val = torch.utils.data.DataLoader(incorr_val, batch_size=4, shuffle=True)\n",
    "    return incorr_loader_val"
   ]
  },
  {
   "cell_type": "code",
   "execution_count": 6,
   "metadata": {
    "collapsed": true
   },
   "outputs": [],
   "source": [
    "loss_fn = nn.CrossEntropyLoss()"
   ]
  },
  {
   "cell_type": "markdown",
   "metadata": {},
   "source": [
    "## Train all of the models"
   ]
  },
  {
   "cell_type": "markdown",
   "metadata": {},
   "source": [
    "### Resnet 34"
   ]
  },
  {
   "cell_type": "code",
   "execution_count": 13,
   "metadata": {
    "collapsed": false
   },
   "outputs": [],
   "source": [
    "model_18 = models.resnet18(pretrained=True)\n",
    "model_18.fc = nn.Linear(model_18.fc.in_features, 2)\n",
    "model_18.cuda()\n",
    "model_18.load_state_dict(torch.load(os.path.join(cwd,\"model_params_extra_incor2.pth\")))"
   ]
  },
  {
   "cell_type": "code",
   "execution_count": 14,
   "metadata": {
    "collapsed": false
   },
   "outputs": [
    {
     "name": "stderr",
     "output_type": "stream",
     "text": [
      "Downloading: \"https://download.pytorch.org/models/resnet34-333f7ec4.pth\" to /home/chale/.torch/models/resnet34-333f7ec4.pth\n",
      "100.0%"
     ]
    },
    {
     "name": "stdout",
     "output_type": "stream",
     "text": [
      "Starting epoch 1 / 5\n"
     ]
    },
    {
     "name": "stderr",
     "output_type": "stream",
     "text": [
      "\n"
     ]
    },
    {
     "name": "stdout",
     "output_type": "stream",
     "text": [
      "Starting epoch 2 / 5\n",
      "Starting epoch 3 / 5\n",
      "Starting epoch 4 / 5\n",
      "Starting epoch 5 / 5\n",
      "Got 726 / 737 correct (98.51)\n",
      "False negatives: 8\n",
      "False positives: 3\n",
      "F1 score 0.985074626866\n"
     ]
    }
   ],
   "source": [
    "model_34 = models.resnet34(pretrained=True)\n",
    "model_34.fc = nn.Linear(model_34.fc.in_features, 2)\n",
    "model_34.cuda()\n",
    "\n",
    "optimizer_34 = optim.Adam(model_34.parameters(), lr=10**-3.89, betas=(0.9, 0.99), weight_decay=0.009)\n",
    "\n",
    "loss_history_34 = train(model_34, loss_fn, dset_loaders[\"train\"], optimizer_34, num_epochs=5)\n",
    "acc, incorrects_34, prob_scores_corr_34, prob_scores_incorr_34, f1score_34 = check_accuracy(model_34, dset_loaders[\"val\"])\n",
    "print(\"False negatives:\",len(incorrects_34[0]))\n",
    "print(\"False positives:\",len(incorrects_34[1]))\n",
    "print(\"F1 score\",f1score_34)"
   ]
  },
  {
   "cell_type": "code",
   "execution_count": 15,
   "metadata": {
    "collapsed": true
   },
   "outputs": [],
   "source": [
    "torch.save(model_34.state_dict(), os.path.join(cwd,\"model_params_resnet_34.pth\"))"
   ]
  },
  {
   "cell_type": "code",
   "execution_count": 16,
   "metadata": {
    "collapsed": false
   },
   "outputs": [
    {
     "data": {
      "image/png": "[encoded data removed]",
      "text/plain": [
       "<matplotlib.figure.Figure at 0x7f4400b42940>"
      ]
     },
     "metadata": {},
     "output_type": "display_data"
    }
   ],
   "source": [
    "# Plot the training losses\n",
    "plt.plot(loss_history_34)\n",
    "plt.xlabel('Iteration')\n",
    "plt.ylabel('Loss')\n",
    "plt.title('Training loss history')\n",
    "plt.show()"
   ]
  },
  {
   "cell_type": "code",
   "execution_count": 17,
   "metadata": {
    "collapsed": false
   },
   "outputs": [
    {
     "data": {
      "image/png": "[encoded data removed]",
      "text/plain": [
       "<matplotlib.figure.Figure at 0x7f4400b42898>"
      ]
     },
     "metadata": {},
     "output_type": "display_data"
    }
   ],
   "source": [
    "sorted_prob_scores_corr_34 = sorted(prob_scores_corr_34)\n",
    "plt.plot(sorted_prob_scores_corr_34, '-')\n",
    "plt.gcf().set_size_inches(5, 5)\n",
    "plt.show()"
   ]
  },
  {
   "cell_type": "code",
   "execution_count": 18,
   "metadata": {
    "collapsed": false
   },
   "outputs": [
    {
     "name": "stdout",
     "output_type": "stream",
     "text": [
      "area = 722.521228628\n"
     ]
    }
   ],
   "source": [
    "area = simps(sorted_prob_scores_corr_34, dx=1)\n",
    "print(\"area =\", area)"
   ]
  },
  {
   "cell_type": "markdown",
   "metadata": {},
   "source": [
    "### Resnet 50"
   ]
  },
  {
   "cell_type": "code",
   "execution_count": 19,
   "metadata": {
    "collapsed": false
   },
   "outputs": [
    {
     "name": "stderr",
     "output_type": "stream",
     "text": [
      "Downloading: \"https://download.pytorch.org/models/resnet50-19c8e357.pth\" to /home/chale/.torch/models/resnet50-19c8e357.pth\n",
      "100.0%"
     ]
    },
    {
     "name": "stdout",
     "output_type": "stream",
     "text": [
      "Starting epoch 1 / 5\n"
     ]
    },
    {
     "name": "stderr",
     "output_type": "stream",
     "text": [
      "\n"
     ]
    },
    {
     "name": "stdout",
     "output_type": "stream",
     "text": [
      "Starting epoch 2 / 5\n",
      "Starting epoch 3 / 5\n",
      "Starting epoch 4 / 5\n",
      "Starting epoch 5 / 5\n",
      "Got 720 / 737 correct (97.69)\n",
      "False negatives: 14\n",
      "False positives: 3\n",
      "F1 score 0.976933514247\n"
     ]
    }
   ],
   "source": [
    "model_50 = models.resnet50(pretrained=True)\n",
    "model_50.fc = nn.Linear(model_50.fc.in_features, 2)\n",
    "model_50.cuda()\n",
    "\n",
    "optimizer_50 = optim.Adam(model_50.parameters(), lr=10**-3.89, betas=(0.9, 0.99), weight_decay=0.009)\n",
    "\n",
    "loss_history_50 = train(model_50, loss_fn, dset_loaders[\"train\"], optimizer_50, num_epochs=5)\n",
    "acc, incorrects_50, prob_scores_corr_50, _, f1score_50 = check_accuracy(model_50, dset_loaders[\"val\"])\n",
    "print(\"False negatives:\",len(incorrects_50[0]))\n",
    "print(\"False positives:\",len(incorrects_50[1]))\n",
    "print(\"F1 score\",f1score_50)"
   ]
  },
  {
   "cell_type": "code",
   "execution_count": 20,
   "metadata": {
    "collapsed": true
   },
   "outputs": [],
   "source": [
    "torch.save(model_50.state_dict(), os.path.join(cwd,\"model_params_resnet_50.pth\"))"
   ]
  },
  {
   "cell_type": "code",
   "execution_count": 21,
   "metadata": {
    "collapsed": false
   },
   "outputs": [
    {
     "data": {
      "image/png": "[encoded data removed]",
      "text/plain": [
       "<matplotlib.figure.Figure at 0x7f44009d32e8>"
      ]
     },
     "metadata": {},
     "output_type": "display_data"
    }
   ],
   "source": [
    "# Plot the training losses\n",
    "plt.plot(loss_history_50)\n",
    "plt.xlabel('Iteration')\n",
    "plt.ylabel('Loss')\n",
    "plt.title('Training loss history')\n",
    "plt.show()"
   ]
  },
  {
   "cell_type": "code",
   "execution_count": 22,
   "metadata": {
    "collapsed": false
   },
   "outputs": [
    {
     "data": {
      "image/png": "[encoded data removed]",
      "text/plain": [
       "<matplotlib.figure.Figure at 0x7f440099e7b8>"
      ]
     },
     "metadata": {},
     "output_type": "display_data"
    },
    {
     "name": "stdout",
     "output_type": "stream",
     "text": [
      "area = 713.577634028\n"
     ]
    }
   ],
   "source": [
    "sorted_prob_scores_corr_50 = sorted(prob_scores_corr_50)\n",
    "plt.plot(sorted_prob_scores_corr_50, '-')\n",
    "plt.gcf().set_size_inches(5, 5)\n",
    "plt.show()\n",
    "\n",
    "area = simps(sorted_prob_scores_corr_50, dx=1)\n",
    "print(\"area =\", area)"
   ]
  },
  {
   "cell_type": "markdown",
   "metadata": {},
   "source": [
    "### Resnet 101"
   ]
  },
  {
   "cell_type": "code",
   "execution_count": 23,
   "metadata": {
    "collapsed": false
   },
   "outputs": [
    {
     "name": "stderr",
     "output_type": "stream",
     "text": [
      "Downloading: \"https://download.pytorch.org/models/resnet101-5d3b4d8f.pth\" to /home/chale/.torch/models/resnet101-5d3b4d8f.pth\n",
      "100.0%"
     ]
    },
    {
     "name": "stdout",
     "output_type": "stream",
     "text": [
      "Starting epoch 1 / 5\n"
     ]
    },
    {
     "name": "stderr",
     "output_type": "stream",
     "text": [
      "\n"
     ]
    },
    {
     "name": "stdout",
     "output_type": "stream",
     "text": [
      "Starting epoch 2 / 5\n",
      "Starting epoch 3 / 5\n",
      "Starting epoch 4 / 5\n",
      "Starting epoch 5 / 5\n",
      "Got 725 / 737 correct (98.37)\n",
      "False negatives: 9\n",
      "False positives: 3\n",
      "F1 score 0.983717774763\n"
     ]
    }
   ],
   "source": [
    "model_101 = models.resnet101(pretrained=True)\n",
    "model_101.fc = nn.Linear(model_101.fc.in_features, 2)\n",
    "model_101.cuda()\n",
    "\n",
    "optimizer_101 = optim.Adam(model_101.parameters(), lr=10**-4, betas=(0.9, 0.99), weight_decay=0.009)\n",
    "\n",
    "loss_history_101 = train(model_101, loss_fn, dset_loaders[\"train\"], optimizer_101, num_epochs=5)\n",
    "acc, incorrects_101, prob_scores_corr_101, _, f1score_101 = check_accuracy(model_101, dset_loaders[\"val\"])\n",
    "print(\"False negatives:\",len(incorrects_101[0]))\n",
    "print(\"False positives:\",len(incorrects_101[1]))\n",
    "print(\"F1 score\",f1score_101)"
   ]
  },
  {
   "cell_type": "code",
   "execution_count": 63,
   "metadata": {
    "collapsed": false
   },
   "outputs": [
    {
     "name": "stdout",
     "output_type": "stream",
     "text": [
      "using reg -2.992665881746138, lr -4.879532049035474\n",
      "Starting epoch 1 / 1\n",
      "Got 425 / 439 correct (96.81)\n",
      "check acc 0.9681093394077449, reg 0.0010170308301054873, lr -4.879532049035474\n",
      "using reg -2.231556508489795, lr -4.879532049035474\n",
      "Starting epoch 1 / 1\n",
      "Got 421 / 439 correct (95.90)\n",
      "using reg -1.648089713495322, lr -4.879532049035474\n",
      "Starting epoch 1 / 1\n",
      "Got 425 / 439 correct (96.81)\n",
      "using reg -1.3689155381853848, lr -4.879532049035474\n",
      "Starting epoch 1 / 1\n",
      "Got 417 / 439 correct (94.99)\n",
      "using reg -2.992665881746138, lr -4.305812798532243\n",
      "Starting epoch 1 / 1\n",
      "Got 428 / 439 correct (97.49)\n",
      "check acc 0.9749430523917996, reg 0.0010170308301054873, lr -4.305812798532243\n",
      "using reg -2.231556508489795, lr -4.305812798532243\n",
      "Starting epoch 1 / 1\n",
      "Got 432 / 439 correct (98.41)\n",
      "check acc 0.9840546697038725, reg 0.005867370210086218, lr -4.305812798532243\n",
      "using reg -1.648089713495322, lr -4.305812798532243\n",
      "Starting epoch 1 / 1\n",
      "Got 425 / 439 correct (96.81)\n",
      "using reg -1.3689155381853848, lr -4.305812798532243\n",
      "Starting epoch 1 / 1\n",
      "Got 436 / 439 correct (99.32)\n",
      "check acc 0.9931662870159453, reg 0.042764604688830046, lr -4.305812798532243\n",
      "using reg -2.992665881746138, lr -3.6548369182038325\n",
      "Starting epoch 1 / 1\n",
      "Got 420 / 439 correct (95.67)\n",
      "using reg -2.231556508489795, lr -3.6548369182038325\n",
      "Starting epoch 1 / 1\n",
      "Got 414 / 439 correct (94.31)\n",
      "using reg -1.648089713495322, lr -3.6548369182038325\n",
      "Starting epoch 1 / 1\n",
      "Got 417 / 439 correct (94.99)\n",
      "using reg -1.3689155381853848, lr -3.6548369182038325\n",
      "Starting epoch 1 / 1\n",
      "Got 423 / 439 correct (96.36)\n",
      "using reg -2.992665881746138, lr -3.4936609328499526\n",
      "Starting epoch 1 / 1\n",
      "Got 405 / 439 correct (92.26)\n",
      "using reg -2.231556508489795, lr -3.4936609328499526\n",
      "Starting epoch 1 / 1\n",
      "Got 384 / 439 correct (87.47)\n",
      "using reg -1.648089713495322, lr -3.4936609328499526\n",
      "Starting epoch 1 / 1\n",
      "Got 383 / 439 correct (87.24)\n",
      "using reg -1.3689155381853848, lr -3.4936609328499526\n",
      "Starting epoch 1 / 1\n",
      "Got 330 / 439 correct (75.17)\n",
      "best acc 0.9931662870159453, beta0 0.9, beta1 0.99, reg -1.3689155381853848, lr -4.305812798532243\n"
     ]
    }
   ],
   "source": [
    "lr_step = .5\n",
    "lr_range = np.arange(-5,-3,lr_step)\n",
    "learning_rates = [10**np.random.uniform(n,n+lr_step) for n in lr_range]\n",
    "reg_step = .5\n",
    "reg_range = np.arange(-3,-1,reg_step)\n",
    "regs = [10**np.random.uniform(n,n+reg_step) for n in reg_range]\n",
    "beta0s = [0.9,0.95]\n",
    "beta1s = [0.99, 0.995, 0.999]\n",
    "best_acc = -1\n",
    "best_beta0 = 0.9\n",
    "best_beta1 = 0.99\n",
    "best_reg = -1\n",
    "best_lr = -1\n",
    "best_model = None\n",
    "\n",
    "for lr in learning_rates:\n",
    "    for reg in regs:\n",
    "        #for beta0 in beta0s:\n",
    "            #for beta1 in beta1s:\n",
    "        model_101 = models.resnet101(pretrained=True)\n",
    "        model_101.fc = nn.Linear(model_101.fc.in_features, 2)\n",
    "        model_101.cuda()\n",
    "\n",
    "        optimizer = optim.Adam(model_101.parameters(), lr=lr, betas=(best_beta0, best_beta1), weight_decay=reg)\n",
    "        print(\"using reg {}, lr {}\".format(np.log10(reg), np.log10(lr)))\n",
    "        train(model_101, loss_fn, dset_loaders[\"train\"], optimizer, num_epochs=1)\n",
    "        acc, _, _, _, _ = check_accuracy(model_101, dset_loaders[\"val\"])\n",
    "        if acc > best_acc:\n",
    "            best_acc = acc\n",
    "            #best_beta0 = beta0\n",
    "            #best_beta1 = beta1\n",
    "            best_reg = reg\n",
    "            best_lr = lr\n",
    "            best_model = model_101\n",
    "            print(\"check acc {}, reg {}, lr {}\".format(acc, reg, np.log10(lr)))\n",
    "\n",
    "\n",
    "print(\"best acc {}, beta0 {}, beta1 {}, reg {}, lr {}\".format(best_acc, best_beta0, best_beta1, np.log10(best_reg), np.log10(best_lr)))"
   ]
  },
  {
   "cell_type": "code",
   "execution_count": 26,
   "metadata": {
    "collapsed": false
   },
   "outputs": [],
   "source": [
    "torch.save(model_101.state_dict(), os.path.join(cwd,\"model_params_resnet_101.pth\"))"
   ]
  },
  {
   "cell_type": "code",
   "execution_count": 27,
   "metadata": {
    "collapsed": false
   },
   "outputs": [
    {
     "data": {
      "image/png": "[encoded data removed]",
      "text/plain": [
       "<matplotlib.figure.Figure at 0x7f4400831470>"
      ]
     },
     "metadata": {},
     "output_type": "display_data"
    }
   ],
   "source": [
    "# Plot the training losses\n",
    "plt.plot(loss_history_101)\n",
    "plt.xlabel('Iteration')\n",
    "plt.ylabel('Loss')\n",
    "plt.title('Training loss history')\n",
    "plt.show()"
   ]
  },
  {
   "cell_type": "code",
   "execution_count": 28,
   "metadata": {
    "collapsed": false
   },
   "outputs": [
    {
     "data": {
      "image/png": "[encoded data removed]",
      "text/plain": [
       "<matplotlib.figure.Figure at 0x7f440091c128>"
      ]
     },
     "metadata": {},
     "output_type": "display_data"
    },
    {
     "name": "stdout",
     "output_type": "stream",
     "text": [
      "area = 714.478178132\n"
     ]
    }
   ],
   "source": [
    "sorted_prob_scores_corr_101 = sorted(prob_scores_corr_101)\n",
    "plt.plot(sorted_prob_scores_corr_101, '-')\n",
    "plt.gcf().set_size_inches(5, 5)\n",
    "plt.show()\n",
    "\n",
    "area = simps(sorted_prob_scores_corr_101, dx=1)\n",
    "print(\"area =\", area)"
   ]
  },
  {
   "cell_type": "markdown",
   "metadata": {},
   "source": [
    "### Resnet 152"
   ]
  },
  {
   "cell_type": "code",
   "execution_count": 29,
   "metadata": {
    "collapsed": false
   },
   "outputs": [
    {
     "name": "stderr",
     "output_type": "stream",
     "text": [
      "Downloading: \"https://download.pytorch.org/models/resnet152-b121ed2d.pth\" to /home/chale/.torch/models/resnet152-b121ed2d.pth\n",
      "100.0%"
     ]
    },
    {
     "name": "stdout",
     "output_type": "stream",
     "text": [
      "Starting epoch 1 / 7\n"
     ]
    },
    {
     "name": "stderr",
     "output_type": "stream",
     "text": [
      "\n"
     ]
    },
    {
     "name": "stdout",
     "output_type": "stream",
     "text": [
      "Starting epoch 2 / 7\n",
      "Starting epoch 3 / 7\n",
      "Starting epoch 4 / 7\n",
      "Starting epoch 5 / 7\n",
      "Starting epoch 6 / 7\n",
      "Starting epoch 7 / 7\n",
      "Got 726 / 737 correct (98.51)\n",
      "False negatives: 11\n",
      "False positives: 0\n",
      "F1 score 0.985074626866\n"
     ]
    }
   ],
   "source": [
    "model_152 = models.resnet152(pretrained=True)\n",
    "model_152.fc = nn.Linear(model_152.fc.in_features, 2)\n",
    "model_152.cuda()\n",
    "\n",
    "optimizer_152 = optim.Adam(model_152.parameters(), lr=10**-4, betas=(0.9, 0.99), weight_decay=0.009)\n",
    "\n",
    "loss_history_152 = train(model_152, loss_fn, dset_loaders[\"train\"], optimizer_152, num_epochs=7)\n",
    "acc, incorrects_152, prob_scores_corr_152, _, f1score_152 = check_accuracy(model_152, dset_loaders[\"val\"])\n",
    "print(\"False negatives:\",len(incorrects_152[0]))\n",
    "print(\"False positives:\",len(incorrects_152[1]))\n",
    "print(\"F1 score\",f1score_152)"
   ]
  },
  {
   "cell_type": "code",
   "execution_count": 61,
   "metadata": {
    "collapsed": false
   },
   "outputs": [
    {
     "name": "stdout",
     "output_type": "stream",
     "text": [
      "using reg -2.866045697679255, lr -4.810884772587046\n",
      "Starting epoch 1 / 1\n",
      "Got 427 / 439 correct (97.27)\n",
      "check acc 0.9726651480637813, reg 0.0013613014349877549, lr -4.810884772587046\n",
      "using reg -2.6538777893587095, lr -4.810884772587046\n",
      "Starting epoch 1 / 1\n",
      "Got 428 / 439 correct (97.49)\n",
      "check acc 0.9749430523917996, reg 0.002218820708995389, lr -4.810884772587046\n",
      "using reg -2.3044203631131643, lr -4.810884772587046\n",
      "Starting epoch 1 / 1\n",
      "Got 425 / 439 correct (96.81)\n",
      "using reg -1.9069760377502116, lr -4.810884772587046\n",
      "Starting epoch 1 / 1\n",
      "Got 425 / 439 correct (96.81)\n",
      "using reg -1.5750301888700542, lr -4.810884772587046\n",
      "Starting epoch 1 / 1\n",
      "Got 422 / 439 correct (96.13)\n",
      "using reg -2.866045697679255, lr -4.523902879623741\n",
      "Starting epoch 1 / 1\n",
      "Got 427 / 439 correct (97.27)\n",
      "using reg -2.6538777893587095, lr -4.523902879623741\n",
      "Starting epoch 1 / 1\n",
      "Got 431 / 439 correct (98.18)\n",
      "check acc 0.9817767653758542, reg 0.002218820708995389, lr -4.523902879623741\n",
      "using reg -2.3044203631131643, lr -4.523902879623741\n",
      "Starting epoch 1 / 1\n",
      "Got 428 / 439 correct (97.49)\n",
      "using reg -1.9069760377502116, lr -4.523902879623741\n",
      "Starting epoch 1 / 1\n",
      "Got 428 / 439 correct (97.49)\n",
      "using reg -1.5750301888700542, lr -4.523902879623741\n",
      "Starting epoch 1 / 1\n",
      "Got 434 / 439 correct (98.86)\n",
      "check acc 0.9886104783599089, reg 0.026605401127301195, lr -4.523902879623741\n",
      "using reg -2.866045697679255, lr -4.323210916266766\n",
      "Starting epoch 1 / 1\n",
      "Got 431 / 439 correct (98.18)\n",
      "using reg -2.6538777893587095, lr -4.323210916266766\n",
      "Starting epoch 1 / 1\n",
      "Got 430 / 439 correct (97.95)\n",
      "using reg -2.3044203631131643, lr -4.323210916266766\n",
      "Starting epoch 1 / 1\n",
      "Got 434 / 439 correct (98.86)\n",
      "using reg -1.9069760377502116, lr -4.323210916266766\n",
      "Starting epoch 1 / 1\n",
      "Got 433 / 439 correct (98.63)\n",
      "using reg -1.5750301888700542, lr -4.323210916266766\n",
      "Starting epoch 1 / 1\n",
      "Got 431 / 439 correct (98.18)\n",
      "using reg -2.866045697679255, lr -3.8116769765336027\n",
      "Starting epoch 1 / 1\n",
      "Got 434 / 439 correct (98.86)\n",
      "using reg -2.6538777893587095, lr -3.8116769765336027\n",
      "Starting epoch 1 / 1\n",
      "Got 429 / 439 correct (97.72)\n",
      "using reg -2.3044203631131643, lr -3.8116769765336027\n",
      "Starting epoch 1 / 1\n",
      "Got 431 / 439 correct (98.18)\n",
      "using reg -1.9069760377502116, lr -3.8116769765336027\n",
      "Starting epoch 1 / 1\n",
      "Got 426 / 439 correct (97.04)\n",
      "using reg -1.5750301888700542, lr -3.8116769765336027\n",
      "Starting epoch 1 / 1\n",
      "Got 417 / 439 correct (94.99)\n",
      "best acc 0.9886104783599089, beta0 0.9, beta1 0.99, reg -1.5750301888700542, lr -4.523902879623741\n"
     ]
    }
   ],
   "source": [
    "lr_step = .3\n",
    "lr_range = np.arange(-5,-4,lr_step)\n",
    "learning_rates = [10**np.random.uniform(n,n+lr_step) for n in lr_range]\n",
    "reg_step = .3\n",
    "reg_range = np.arange(-3,-1.5,reg_step)\n",
    "regs = [10**np.random.uniform(n,n+reg_step) for n in reg_range]\n",
    "beta0s = [0.9,0.95]\n",
    "beta1s = [0.99, 0.995, 0.999]\n",
    "best_acc = -1\n",
    "best_beta0 = 0.9\n",
    "best_beta1 = 0.99\n",
    "best_reg = -1\n",
    "best_lr = -1\n",
    "best_model = None\n",
    "\n",
    "for lr in learning_rates:\n",
    "    for reg in regs:\n",
    "        #for beta0 in beta0s:\n",
    "            #for beta1 in beta1s:\n",
    "        model_152 = models.resnet152(pretrained=True)\n",
    "        model_152.fc = nn.Linear(model_152.fc.in_features, 2)\n",
    "        model_152.cuda()\n",
    "\n",
    "        optimizer = optim.Adam(model_152.parameters(), lr=lr, betas=(best_beta0, best_beta1), weight_decay=reg)\n",
    "        print(\"using reg {}, lr {}\".format(np.log10(reg), np.log10(lr)))\n",
    "        train(model_152, loss_fn, dset_loaders[\"train\"], optimizer, num_epochs=1)\n",
    "        acc, _, _, _, _ = check_accuracy(model_152, dset_loaders[\"val\"])\n",
    "        if acc > best_acc:\n",
    "            best_acc = acc\n",
    "            #best_beta0 = beta0\n",
    "            #best_beta1 = beta1\n",
    "            best_reg = reg\n",
    "            best_lr = lr\n",
    "            best_model = model_152\n",
    "            print(\"check acc {}, reg {}, lr {}\".format(acc, reg, np.log10(lr)))\n",
    "\n",
    "\n",
    "print(\"best acc {}, beta0 {}, beta1 {}, reg {}, lr {}\".format(best_acc, best_beta0, best_beta1, np.log10(best_reg), np.log10(best_lr)))"
   ]
  },
  {
   "cell_type": "code",
   "execution_count": 39,
   "metadata": {
    "collapsed": true
   },
   "outputs": [],
   "source": [
    "torch.save(model_152.state_dict(), os.path.join(cwd,\"model_params_resnet_152.pth\"))"
   ]
  },
  {
   "cell_type": "code",
   "execution_count": 30,
   "metadata": {
    "collapsed": false
   },
   "outputs": [
    {
     "data": {
      "image/png": "[encoded data removed]",
      "text/plain": [
       "<matplotlib.figure.Figure at 0x7f4400b46f28>"
      ]
     },
     "metadata": {},
     "output_type": "display_data"
    }
   ],
   "source": [
    "# Plot the training losses\n",
    "plt.plot(loss_history_152)\n",
    "plt.xlabel('Iteration')\n",
    "plt.ylabel('Loss')\n",
    "plt.title('Training loss history')\n",
    "plt.show()"
   ]
  },
  {
   "cell_type": "code",
   "execution_count": 31,
   "metadata": {
    "collapsed": false
   },
   "outputs": [
    {
     "data": {
      "image/png": "[encoded data removed]",
      "text/plain": [
       "<matplotlib.figure.Figure at 0x7f4400a69860>"
      ]
     },
     "metadata": {},
     "output_type": "display_data"
    },
    {
     "name": "stdout",
     "output_type": "stream",
     "text": [
      "area = 715.673611767\n"
     ]
    }
   ],
   "source": [
    "sorted_prob_scores_corr_152 = sorted(prob_scores_corr_152)\n",
    "plt.plot(sorted_prob_scores_corr_152, '-')\n",
    "plt.gcf().set_size_inches(5, 5)\n",
    "plt.show()\n",
    "\n",
    "area = simps(sorted_prob_scores_corr_152, dx=1)\n",
    "print(\"area =\", area)"
   ]
  },
  {
   "cell_type": "code",
   "execution_count": 36,
   "metadata": {
    "collapsed": false
   },
   "outputs": [
    {
     "name": "stdout",
     "output_type": "stream",
     "text": [
      "Starting epoch 1 / 5\n",
      "Starting epoch 2 / 5\n",
      "Starting epoch 3 / 5\n",
      "Starting epoch 4 / 5\n",
      "Starting epoch 5 / 5\n",
      "Got 725 / 737 correct (98.37)\n",
      "False negatives: 3\n",
      "False positives: 9\n"
     ]
    },
    {
     "data": {
      "image/png": "[encoded data removed]",
      "text/plain": [
       "<matplotlib.figure.Figure at 0x7f439da88a90>"
      ]
     },
     "metadata": {},
     "output_type": "display_data"
    }
   ],
   "source": [
    "# Here we use transfer learning to create a good model based on vggnet.\n",
    "# best acc 0.9817767653758542, beta0 0.95, beta1 0.995, logreg -3.7162664807570738, lr -4.592649316320626\n",
    "model_vgg = models.vgg13(pretrained=True)\n",
    "model_vgg.classifier[6].out_features = 2\n",
    "model_vgg.cuda()\n",
    "loss_fn = nn.CrossEntropyLoss()\n",
    "optimizer = optim.Adam(model_vgg.parameters(), lr=10**-4.05194, betas=(0.95, 0.995), weight_decay=10**-3.7162664807570738)\n",
    "\n",
    "loss_history_vgg = train(model_vgg, loss_fn, dset_loaders[\"train\"], optimizer, num_epochs=5)\n",
    "acc, incorrects_vgg, prob_scores_corr_vgg, _, f1score_vgg = check_accuracy(model_vgg, dset_loaders[\"val\"])\n",
    "print(\"False negatives:\",len(incorrects_vgg[0]))\n",
    "print(\"False positives:\",len(incorrects_vgg[1]))\n",
    "\n",
    "# Plot the training losses\n",
    "plt.plot(loss_history_vgg)\n",
    "plt.xlabel('Iteration')\n",
    "plt.ylabel('Loss')\n",
    "plt.title('Training loss history')\n",
    "plt.show()"
   ]
  },
  {
   "cell_type": "code",
   "execution_count": 37,
   "metadata": {
    "collapsed": false
   },
   "outputs": [
    {
     "data": {
      "image/png": "[encoded data removed]",
      "text/plain": [
       "<matplotlib.figure.Figure at 0x7f440090e7b8>"
      ]
     },
     "metadata": {},
     "output_type": "display_data"
    },
    {
     "name": "stdout",
     "output_type": "stream",
     "text": [
      "area = 721.842392243\n"
     ]
    }
   ],
   "source": [
    "sorted_prob_scores_corr_vgg = sorted(prob_scores_corr_vgg)\n",
    "plt.plot(sorted_prob_scores_corr_vgg, '-')\n",
    "plt.gcf().set_size_inches(5, 5)\n",
    "plt.show()\n",
    "\n",
    "area = simps(sorted_prob_scores_corr_vgg, dx=1)\n",
    "print(\"area =\", area)"
   ]
  },
  {
   "cell_type": "code",
   "execution_count": 47,
   "metadata": {
    "collapsed": true
   },
   "outputs": [],
   "source": [
    "torch.save(model_vgg.state_dict(), os.path.join(cwd,\"model_params_vgg.pth\"))"
   ]
  },
  {
   "cell_type": "markdown",
   "metadata": {},
   "source": [
    "## Ensemble"
   ]
  },
  {
   "cell_type": "code",
   "execution_count": 21,
   "metadata": {
    "collapsed": false
   },
   "outputs": [],
   "source": [
    "def check_accuracy_ensemble(models, loader, scheme='ave'):    \n",
    "    softmax_fn = nn.Softmax()\n",
    "    prob_scores_corr = []\n",
    "    prob_scores_incorr = []\n",
    "    all_preds = []\n",
    "    all_y = []\n",
    "    num_models = len(models)\n",
    "    num_correct = 0\n",
    "    num_samples = 0\n",
    "    incorrect_x = {0:[],1:[]}\n",
    "    for model in models:\n",
    "        model.eval() # Put the model in test mode (the opposite of model.train(), essentially)\n",
    "    for x, y in loader:\n",
    "        x_var = Variable(x.type(gpu_dtype), volatile=True)\n",
    "        y_cuda = y.type(torch.cuda.LongTensor)\n",
    "\n",
    "        prob_scores = []\n",
    "        for model in models:\n",
    "            scores = model(x_var)\n",
    "            prob_score = softmax_fn(scores).data.cpu()\n",
    "            prob_scores.append(prob_score[:,0:2])\n",
    "            #print(prob_score.size())\n",
    "\n",
    "        preds = None\n",
    "        if scheme == 'ave':\n",
    "            ave_prob_score = torch.stack(prob_scores).sum(0).squeeze(0)/num_models\n",
    "            preds = ave_prob_score.max(1)[1]\n",
    "        elif scheme == 'max':\n",
    "            preds = torch.stack(prob_scores).squeeze(0).max(0)[0].squeeze(0).max(1)[1]\n",
    "        else:\n",
    "            raise NotImplementedError\n",
    "        \n",
    "        num_correct += (preds == y).sum()\n",
    "        num_samples += preds.size(0)\n",
    "\n",
    "        all_preds.append(preds)\n",
    "        all_y.append(y)\n",
    "        \n",
    "        for i,x_i in enumerate(x):\n",
    "            if (preds[i]!=y[i])[0] == 1:\n",
    "                incorrect_x[preds[i][0]].append(x_i.unsqueeze(0))\n",
    "            prob_scores_corr.append(prob_score[i][y[i]])\n",
    "            prob_scores_incorr.append(prob_score[i][1-y[i]])\n",
    "\n",
    "    y_true = torch.cat(all_y,0)\n",
    "    y_pred = torch.cat(all_preds,0)\n",
    "    f1score = f1_score(y_true.numpy(), y_pred.numpy(), average='micro')\n",
    "\n",
    "    acc = float(num_correct) / num_samples\n",
    "    print('Got %d / %d correct (%.2f)' % (num_correct, num_samples, 100 * acc))\n",
    "    return acc, incorrect_x, prob_scores_corr, prob_scores_incorr, f1score"
   ]
  },
  {
   "cell_type": "markdown",
   "metadata": {},
   "source": [
    "Check validation set against all models"
   ]
  },
  {
   "cell_type": "code",
   "execution_count": 19,
   "metadata": {
    "collapsed": false
   },
   "outputs": [
    {
     "data": {
      "text/plain": [
       "VGG (\n",
       "  (features): Sequential (\n",
       "    (0): Conv2d(3, 64, kernel_size=(3, 3), stride=(1, 1), padding=(1, 1))\n",
       "    (1): ReLU (inplace)\n",
       "    (2): Conv2d(64, 64, kernel_size=(3, 3), stride=(1, 1), padding=(1, 1))\n",
       "    (3): ReLU (inplace)\n",
       "    (4): MaxPool2d (size=(2, 2), stride=(2, 2), dilation=(1, 1))\n",
       "    (5): Conv2d(64, 128, kernel_size=(3, 3), stride=(1, 1), padding=(1, 1))\n",
       "    (6): ReLU (inplace)\n",
       "    (7): Conv2d(128, 128, kernel_size=(3, 3), stride=(1, 1), padding=(1, 1))\n",
       "    (8): ReLU (inplace)\n",
       "    (9): MaxPool2d (size=(2, 2), stride=(2, 2), dilation=(1, 1))\n",
       "    (10): Conv2d(128, 256, kernel_size=(3, 3), stride=(1, 1), padding=(1, 1))\n",
       "    (11): ReLU (inplace)\n",
       "    (12): Conv2d(256, 256, kernel_size=(3, 3), stride=(1, 1), padding=(1, 1))\n",
       "    (13): ReLU (inplace)\n",
       "    (14): MaxPool2d (size=(2, 2), stride=(2, 2), dilation=(1, 1))\n",
       "    (15): Conv2d(256, 512, kernel_size=(3, 3), stride=(1, 1), padding=(1, 1))\n",
       "    (16): ReLU (inplace)\n",
       "    (17): Conv2d(512, 512, kernel_size=(3, 3), stride=(1, 1), padding=(1, 1))\n",
       "    (18): ReLU (inplace)\n",
       "    (19): MaxPool2d (size=(2, 2), stride=(2, 2), dilation=(1, 1))\n",
       "    (20): Conv2d(512, 512, kernel_size=(3, 3), stride=(1, 1), padding=(1, 1))\n",
       "    (21): ReLU (inplace)\n",
       "    (22): Conv2d(512, 512, kernel_size=(3, 3), stride=(1, 1), padding=(1, 1))\n",
       "    (23): ReLU (inplace)\n",
       "    (24): MaxPool2d (size=(2, 2), stride=(2, 2), dilation=(1, 1))\n",
       "  )\n",
       "  (classifier): Sequential (\n",
       "    (0): Linear (25088 -> 4096)\n",
       "    (1): ReLU (inplace)\n",
       "    (2): Dropout (p = 0.5)\n",
       "    (3): Linear (4096 -> 4096)\n",
       "    (4): ReLU (inplace)\n",
       "    (5): Dropout (p = 0.5)\n",
       "    (6): Linear (4096 -> 2)\n",
       "  )\n",
       ")"
      ]
     },
     "execution_count": 19,
     "metadata": {},
     "output_type": "execute_result"
    }
   ],
   "source": [
    "model_18 = models.resnet18(pretrained=True)\n",
    "model_18.fc = nn.Linear(model_18.fc.in_features, 2)\n",
    "model_18.cuda()\n",
    "model_18.load_state_dict(torch.load(os.path.join(cwd,\"model_params_extra_incor2.pth\")))\n",
    "\n",
    "model_34 = models.resnet34(pretrained=True)\n",
    "model_34.fc = nn.Linear(model_34.fc.in_features, 2)\n",
    "model_34.cuda()\n",
    "model_34.load_state_dict(torch.load(os.path.join(cwd,\"model_params_resnet_34.pth\")))\n",
    "\n",
    "model_50 = models.resnet50(pretrained=True)\n",
    "model_50.fc = nn.Linear(model_50.fc.in_features, 2)\n",
    "model_50.cuda()\n",
    "model_50.load_state_dict(torch.load(os.path.join(cwd,\"model_params_resnet_50.pth\")))\n",
    "\n",
    "model_101 = models.resnet101(pretrained=True)\n",
    "model_101.fc = nn.Linear(model_101.fc.in_features, 2)\n",
    "model_101.cuda()\n",
    "model_101.load_state_dict(torch.load(os.path.join(cwd,\"model_params_resnet_101.pth\")))\n",
    "\n",
    "model_152 = models.resnet152(pretrained=True)\n",
    "model_152.fc = nn.Linear(model_152.fc.in_features, 2)\n",
    "model_152.cuda()\n",
    "model_152.load_state_dict(torch.load(os.path.join(cwd,\"model_params_resnet_152.pth\")))\n",
    "\n",
    "model_vgg = models.vgg13(pretrained=True)\n",
    "model_vgg.classifier[6].out_features = 2\n",
    "model_vgg.load_state_dict(torch.load(os.path.join(cwd,\"model_params_vgg.pth\")))\n",
    "model_vgg.cuda()"
   ]
  },
  {
   "cell_type": "code",
   "execution_count": 20,
   "metadata": {
    "collapsed": false
   },
   "outputs": [
    {
     "name": "stdout",
     "output_type": "stream",
     "text": [
      "torch.Size([25, 2])\n",
      "torch.Size([25, 2])\n",
      "torch.Size([25, 2])\n",
      "torch.Size([25, 2])\n",
      "torch.Size([25, 2])\n",
      "torch.Size([25, 1000])\n",
      "torch.Size([25, 2])\n",
      "torch.Size([25, 2])\n",
      "torch.Size([25, 2])\n",
      "torch.Size([25, 2])\n",
      "torch.Size([25, 2])\n",
      "torch.Size([25, 1000])\n",
      "torch.Size([25, 2])\n",
      "torch.Size([25, 2])\n",
      "torch.Size([25, 2])\n",
      "torch.Size([25, 2])\n",
      "torch.Size([25, 2])\n",
      "torch.Size([25, 1000])\n",
      "torch.Size([25, 2])\n",
      "torch.Size([25, 2])\n",
      "torch.Size([25, 2])\n",
      "torch.Size([25, 2])\n",
      "torch.Size([25, 2])\n",
      "torch.Size([25, 1000])\n",
      "torch.Size([25, 2])\n",
      "torch.Size([25, 2])\n",
      "torch.Size([25, 2])\n",
      "torch.Size([25, 2])\n",
      "torch.Size([25, 2])\n",
      "torch.Size([25, 1000])\n",
      "torch.Size([25, 2])\n",
      "torch.Size([25, 2])\n",
      "torch.Size([25, 2])\n",
      "torch.Size([25, 2])\n",
      "torch.Size([25, 2])\n",
      "torch.Size([25, 1000])\n",
      "torch.Size([25, 2])\n",
      "torch.Size([25, 2])\n",
      "torch.Size([25, 2])\n",
      "torch.Size([25, 2])\n",
      "torch.Size([25, 2])\n",
      "torch.Size([25, 1000])\n",
      "torch.Size([25, 2])\n",
      "torch.Size([25, 2])\n",
      "torch.Size([25, 2])\n",
      "torch.Size([25, 2])\n",
      "torch.Size([25, 2])\n",
      "torch.Size([25, 1000])\n",
      "torch.Size([25, 2])\n",
      "torch.Size([25, 2])\n",
      "torch.Size([25, 2])\n",
      "torch.Size([25, 2])\n",
      "torch.Size([25, 2])\n",
      "torch.Size([25, 1000])\n",
      "torch.Size([25, 2])\n",
      "torch.Size([25, 2])\n",
      "torch.Size([25, 2])\n",
      "torch.Size([25, 2])\n",
      "torch.Size([25, 2])\n",
      "torch.Size([25, 1000])\n",
      "torch.Size([25, 2])\n",
      "torch.Size([25, 2])\n",
      "torch.Size([25, 2])\n",
      "torch.Size([25, 2])\n",
      "torch.Size([25, 2])\n",
      "torch.Size([25, 1000])\n",
      "torch.Size([25, 2])\n",
      "torch.Size([25, 2])\n",
      "torch.Size([25, 2])\n",
      "torch.Size([25, 2])\n",
      "torch.Size([25, 2])\n",
      "torch.Size([25, 1000])\n",
      "torch.Size([25, 2])\n",
      "torch.Size([25, 2])\n",
      "torch.Size([25, 2])\n",
      "torch.Size([25, 2])\n",
      "torch.Size([25, 2])\n",
      "torch.Size([25, 1000])\n",
      "torch.Size([25, 2])\n",
      "torch.Size([25, 2])\n",
      "torch.Size([25, 2])\n",
      "torch.Size([25, 2])\n",
      "torch.Size([25, 2])\n",
      "torch.Size([25, 1000])\n",
      "torch.Size([25, 2])\n",
      "torch.Size([25, 2])\n",
      "torch.Size([25, 2])\n",
      "torch.Size([25, 2])\n",
      "torch.Size([25, 2])\n",
      "torch.Size([25, 1000])\n",
      "torch.Size([25, 2])\n",
      "torch.Size([25, 2])\n",
      "torch.Size([25, 2])\n",
      "torch.Size([25, 2])\n",
      "torch.Size([25, 2])\n",
      "torch.Size([25, 1000])\n",
      "torch.Size([25, 2])\n",
      "torch.Size([25, 2])\n",
      "torch.Size([25, 2])\n",
      "torch.Size([25, 2])\n",
      "torch.Size([25, 2])\n",
      "torch.Size([25, 1000])\n",
      "torch.Size([25, 2])\n",
      "torch.Size([25, 2])\n",
      "torch.Size([25, 2])\n",
      "torch.Size([25, 2])\n",
      "torch.Size([25, 2])\n",
      "torch.Size([25, 1000])\n",
      "torch.Size([25, 2])\n",
      "torch.Size([25, 2])\n",
      "torch.Size([25, 2])\n",
      "torch.Size([25, 2])\n",
      "torch.Size([25, 2])\n",
      "torch.Size([25, 1000])\n",
      "torch.Size([25, 2])\n",
      "torch.Size([25, 2])\n",
      "torch.Size([25, 2])\n",
      "torch.Size([25, 2])\n",
      "torch.Size([25, 2])\n",
      "torch.Size([25, 1000])\n",
      "torch.Size([25, 2])\n",
      "torch.Size([25, 2])\n",
      "torch.Size([25, 2])\n",
      "torch.Size([25, 2])\n",
      "torch.Size([25, 2])\n",
      "torch.Size([25, 1000])\n",
      "torch.Size([25, 2])\n",
      "torch.Size([25, 2])\n",
      "torch.Size([25, 2])\n",
      "torch.Size([25, 2])\n",
      "torch.Size([25, 2])\n",
      "torch.Size([25, 1000])\n",
      "torch.Size([25, 2])\n",
      "torch.Size([25, 2])\n",
      "torch.Size([25, 2])\n",
      "torch.Size([25, 2])\n",
      "torch.Size([25, 2])\n",
      "torch.Size([25, 1000])\n",
      "torch.Size([25, 2])\n",
      "torch.Size([25, 2])\n",
      "torch.Size([25, 2])\n",
      "torch.Size([25, 2])\n",
      "torch.Size([25, 2])\n",
      "torch.Size([25, 1000])\n",
      "torch.Size([25, 2])\n",
      "torch.Size([25, 2])\n",
      "torch.Size([25, 2])\n",
      "torch.Size([25, 2])\n",
      "torch.Size([25, 2])\n",
      "torch.Size([25, 1000])\n",
      "torch.Size([25, 2])\n",
      "torch.Size([25, 2])\n",
      "torch.Size([25, 2])\n",
      "torch.Size([25, 2])\n",
      "torch.Size([25, 2])\n",
      "torch.Size([25, 1000])\n",
      "torch.Size([25, 2])\n",
      "torch.Size([25, 2])\n",
      "torch.Size([25, 2])\n",
      "torch.Size([25, 2])\n",
      "torch.Size([25, 2])\n",
      "torch.Size([25, 1000])\n",
      "torch.Size([25, 2])\n",
      "torch.Size([25, 2])\n",
      "torch.Size([25, 2])\n",
      "torch.Size([25, 2])\n",
      "torch.Size([25, 2])\n",
      "torch.Size([25, 1000])\n",
      "torch.Size([25, 2])\n",
      "torch.Size([25, 2])\n",
      "torch.Size([25, 2])\n",
      "torch.Size([25, 2])\n",
      "torch.Size([25, 2])\n",
      "torch.Size([25, 1000])\n",
      "torch.Size([12, 2])\n",
      "torch.Size([12, 2])\n",
      "torch.Size([12, 2])\n",
      "torch.Size([12, 2])\n",
      "torch.Size([12, 2])\n",
      "torch.Size([12, 1000])\n",
      "Got 732 / 737 correct (99.32)\n",
      "False negatives: 3\n",
      "False positives: 2\n",
      "F1 score 0.993215739484\n"
     ]
    }
   ],
   "source": [
    "ensemble = [model_18, model_34, model_50, model_101, model_152, model_vgg]\n",
    "acc, incorrects, prob_scores_corr, _, f1score = check_accuracy_ensemble(ensemble, dset_loaders[\"val\"], scheme='max')\n",
    "print(\"False negatives:\",len(incorrects[0]))\n",
    "print(\"False positives:\",len(incorrects[1]))\n",
    "print(\"F1 score\",f1score)"
   ]
  },
  {
   "cell_type": "code",
   "execution_count": 22,
   "metadata": {
    "collapsed": false
   },
   "outputs": [
    {
     "name": "stdout",
     "output_type": "stream",
     "text": [
      "Got 732 / 737 correct (99.32)\n",
      "False negatives: 5\n",
      "False positives: 0\n",
      "F1 score 0.993215739484\n"
     ]
    }
   ],
   "source": [
    "models = [model_18, model_34, model_50, model_101, model_152, model_vgg]\n",
    "acc, incorrects, prob_scores_corr, _, f1score = check_accuracy_ensemble(models, dset_loaders[\"val\"], scheme='ave')\n",
    "print(\"False negatives:\",len(incorrects[0]))\n",
    "print(\"False positives:\",len(incorrects[1]))\n",
    "print(\"F1 score\",f1score)"
   ]
  },
  {
   "cell_type": "code",
   "execution_count": 24,
   "metadata": {
    "collapsed": false
   },
   "outputs": [
    {
     "data": {
      "image/png": "[encoded data removed]",
      "text/plain": [
       "<matplotlib.figure.Figure at 0x7fbbd294d2e8>"
      ]
     },
     "metadata": {},
     "output_type": "display_data"
    },
    {
     "name": "stdout",
     "output_type": "stream",
     "text": [
      "area = 721.842396639\n"
     ]
    }
   ],
   "source": [
    "sorted_prob_scores_corr = sorted(prob_scores_corr)\n",
    "plt.plot(sorted_prob_scores_corr, '-')\n",
    "plt.gcf().set_size_inches(5, 5)\n",
    "plt.show()\n",
    "\n",
    "area = simps(sorted_prob_scores_corr, dx=1)\n",
    "print(\"area =\", area)"
   ]
  },
  {
   "cell_type": "code",
   "execution_count": 26,
   "metadata": {
    "collapsed": false
   },
   "outputs": [
    {
     "data": {
      "text/plain": [
       "<TestModelEnsemble.TestModelEnsemble at 0x7fbc2fe77390>"
      ]
     },
     "execution_count": 26,
     "metadata": {},
     "output_type": "execute_result"
    }
   ],
   "source": [
    "from TestModelEnsemble import TestModelEnsemble\n",
    "\n",
    "TestModelEnsemble(models, scheme='max')"
   ]
  },
  {
   "cell_type": "markdown",
   "metadata": {},
   "source": [
    "Test results: 0.98339 (down from 0.988)"
   ]
  },
  {
   "cell_type": "code",
   "execution_count": 29,
   "metadata": {
    "collapsed": false
   },
   "outputs": [
    {
     "name": "stdout",
     "output_type": "stream",
     "text": [
      "Submission complete!\n"
     ]
    }
   ],
   "source": [
    "TestModelEnsemble(models, scheme='ave').submit()"
   ]
  },
  {
   "cell_type": "markdown",
   "metadata": {},
   "source": [
    "Test results: 0.99157 (up from 0.988!)"
   ]
  },
  {
   "cell_type": "code",
   "execution_count": null,
   "metadata": {
    "collapsed": true
   },
   "outputs": [],
   "source": []
  }
 ],
 "metadata": {
  "kernelspec": {
   "display_name": "Python 3",
   "language": "python",
   "name": "python3"
  },
  "language_info": {
   "codemirror_mode": {
    "name": "ipython",
    "version": 3
   },
   "file_extension": ".py",
   "mimetype": "text/x-python",
   "name": "python",
   "nbconvert_exporter": "python",
   "pygments_lexer": "ipython3",
   "version": "3.5.2"
  }
 },
 "nbformat": 4,
 "nbformat_minor": 0
}
